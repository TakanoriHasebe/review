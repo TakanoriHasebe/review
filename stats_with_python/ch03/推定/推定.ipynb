{
 "cells": [
  {
   "cell_type": "markdown",
   "metadata": {},
   "source": [
    "## この章で行うこと"
   ]
  },
  {
   "cell_type": "code",
   "execution_count": 1,
   "metadata": {},
   "outputs": [],
   "source": [
    "# ライブラリのimport\n",
    "import numpy as np\n",
    "import pandas as pd\n",
    "# 表示桁数の指定\n",
    "%precision 3\n",
    "from matplotlib import pyplot as plt\n",
    "import seaborn as sns\n",
    "sns.set()\n",
    "\n",
    "# ライブラリのimport\n",
    "import scipy as sp\n",
    "from scipy import stats\n",
    "import statsmodels.formula.api as smf\n",
    "import statsmodels.api as sm\n",
    "# 表示桁数の指定\n",
    "%precision 3\n",
    "# グラフをjupyter notebook内に表示\n",
    "%matplotlib inline"
   ]
  },
  {
   "cell_type": "code",
   "execution_count": 2,
   "metadata": {},
   "outputs": [],
   "source": [
    "fish = pd.read_csv('3-7-1-fish_length.csv')['length']"
   ]
  },
  {
   "cell_type": "code",
   "execution_count": 3,
   "metadata": {},
   "outputs": [
    {
     "data": {
      "text/plain": [
       "0    4.352982\n",
       "1    3.735304\n",
       "2    5.944617\n",
       "3    3.798326\n",
       "4    4.087688\n",
       "5    5.265985\n",
       "6    3.272614\n",
       "7    3.526691\n",
       "8    4.150083\n",
       "9    3.736104\n",
       "Name: length, dtype: float64"
      ]
     },
     "execution_count": 3,
     "metadata": {},
     "output_type": "execute_result"
    }
   ],
   "source": [
    "fish"
   ]
  },
  {
   "cell_type": "markdown",
   "metadata": {},
   "source": [
    "### 点推定"
   ]
  },
  {
   "cell_type": "code",
   "execution_count": 5,
   "metadata": {},
   "outputs": [
    {
     "data": {
      "text/plain": [
       "4.187"
      ]
     },
     "execution_count": 5,
     "metadata": {},
     "output_type": "execute_result"
    }
   ],
   "source": [
    "mu = sp.mean(fish)\n",
    "mu"
   ]
  },
  {
   "cell_type": "markdown",
   "metadata": {},
   "source": [
    "標本平均が4.187なので、母平均も4.187と見積もるのが点推定"
   ]
  },
  {
   "cell_type": "markdown",
   "metadata": {},
   "source": [
    "母分散の点推定値として、普遍分散が用いられる。<br>"
   ]
  },
  {
   "cell_type": "code",
   "execution_count": 16,
   "metadata": {},
   "outputs": [
    {
     "data": {
      "text/plain": [
       "0.680"
      ]
     },
     "execution_count": 16,
     "metadata": {},
     "output_type": "execute_result"
    }
   ],
   "source": [
    "sigma_2 = sp.var(fish, ddof = 1)\n",
    "sigma_2"
   ]
  },
  {
   "cell_type": "markdown",
   "metadata": {},
   "source": [
    "### 区間推定"
   ]
  },
  {
   "cell_type": "markdown",
   "metadata": {},
   "source": [
    "区間推定とは、推定値に幅を持たせた推定方法。<br>"
   ]
  },
  {
   "cell_type": "markdown",
   "metadata": {},
   "source": [
    "### 信頼係数・信頼区間"
   ]
  },
  {
   "cell_type": "markdown",
   "metadata": {},
   "source": [
    "信頼係数 : 95%, 99%<br>\n",
    "信頼区間 : 信頼係数を満たす区間<br>"
   ]
  },
  {
   "cell_type": "markdown",
   "metadata": {},
   "source": [
    "### 信頼限界"
   ]
  },
  {
   "cell_type": "markdown",
   "metadata": {},
   "source": [
    "下側信頼限界, 上側信頼限界とも呼ばれる。<br>"
   ]
  },
  {
   "cell_type": "markdown",
   "metadata": {},
   "source": [
    "### 区間推定"
   ]
  },
  {
   "cell_type": "markdown",
   "metadata": {},
   "source": [
    "区間推定に必要となるものは以下の３つ<br>\n",
    "自由度, 標本平均, 標準誤差<br>"
   ]
  },
  {
   "cell_type": "code",
   "execution_count": 8,
   "metadata": {},
   "outputs": [
    {
     "data": {
      "text/plain": [
       "9"
      ]
     },
     "execution_count": 8,
     "metadata": {},
     "output_type": "execute_result"
    }
   ],
   "source": [
    "# 自由度\n",
    "df = len(fish) - 1\n",
    "df"
   ]
  },
  {
   "cell_type": "code",
   "execution_count": 20,
   "metadata": {},
   "outputs": [
    {
     "data": {
      "text/plain": [
       "0.261"
      ]
     },
     "execution_count": 20,
     "metadata": {},
     "output_type": "execute_result"
    }
   ],
   "source": [
    "sigma = sp.sqrt(sigma_2)\n",
    "se = sp.sqrt(sigma_2) / sp.sqrt(len(fish))\n",
    "se"
   ]
  },
  {
   "cell_type": "code",
   "execution_count": 19,
   "metadata": {},
   "outputs": [
    {
     "data": {
      "text/plain": [
       "(3.597, 4.777)"
      ]
     },
     "execution_count": 19,
     "metadata": {},
     "output_type": "execute_result"
    }
   ],
   "source": [
    "interval = stats.t.interval(\n",
    "    alpha = 0.95, df = df, loc = mu, scale = se\n",
    ")\n",
    "interval"
   ]
  },
  {
   "cell_type": "markdown",
   "metadata": {},
   "source": [
    "### 信頼区間の幅を決める要素"
   ]
  },
  {
   "cell_type": "markdown",
   "metadata": {},
   "source": [
    "標本における分散が大きければ「データが平均値から離れている→平均値をあまり信用できない<br>\n",
    "したがって、信頼区間の幅が広くなる。<br>"
   ]
  },
  {
   "cell_type": "code",
   "execution_count": 21,
   "metadata": {},
   "outputs": [
    {
     "data": {
      "text/plain": [
       "(-1.713, 10.087)"
      ]
     },
     "execution_count": 21,
     "metadata": {},
     "output_type": "execute_result"
    }
   ],
   "source": [
    "se2 = (sigma*10) / sp.sqrt(len(fish))\n",
    "stats.t.interval(\n",
    "    alpha = 0.95, df = df, loc = mu, scale=se2\n",
    ")"
   ]
  },
  {
   "cell_type": "markdown",
   "metadata": {},
   "source": [
    "サンプルサイズを増やしてみる<br>"
   ]
  },
  {
   "cell_type": "code",
   "execution_count": 24,
   "metadata": {},
   "outputs": [],
   "source": [
    "df2 = (len(fish)*10)-1\n",
    "se3 = sigma / sp.sqrt(len(fish) * 10)"
   ]
  },
  {
   "cell_type": "code",
   "execution_count": 26,
   "metadata": {},
   "outputs": [
    {
     "data": {
      "text/plain": [
       "(4.023, 4.351)"
      ]
     },
     "execution_count": 26,
     "metadata": {},
     "output_type": "execute_result"
    }
   ],
   "source": [
    "stats.t.interval(\n",
    "    alpha = 0.95, df = df2, loc = mu, scale=se3\n",
    ")"
   ]
  },
  {
   "cell_type": "markdown",
   "metadata": {},
   "source": [
    "### 信頼区間の求め方の詳細"
   ]
  },
  {
   "cell_type": "code",
   "execution_count": 35,
   "metadata": {},
   "outputs": [
    {
     "data": {
      "text/plain": [
       "2.262"
      ]
     },
     "execution_count": 35,
     "metadata": {},
     "output_type": "execute_result"
    }
   ],
   "source": [
    "# 97.5%点を求める\n",
    "t_975 = stats.t.ppf(q = 0.975, df= df)\n",
    "t_975"
   ]
  },
  {
   "cell_type": "code",
   "execution_count": 38,
   "metadata": {},
   "outputs": [
    {
     "data": {
      "text/plain": [
       "3.772"
      ]
     },
     "execution_count": 38,
     "metadata": {},
     "output_type": "execute_result"
    }
   ],
   "source": [
    "# 下側信頼限界\n",
    "lower = mu - t_975 * se\n",
    "lower"
   ]
  },
  {
   "cell_type": "code",
   "execution_count": 39,
   "metadata": {},
   "outputs": [
    {
     "data": {
      "text/plain": [
       "4.496"
      ]
     },
     "execution_count": 39,
     "metadata": {},
     "output_type": "execute_result"
    }
   ],
   "source": [
    "upper = mu + t_975 * se\n",
    "upper"
   ]
  },
  {
   "cell_type": "markdown",
   "metadata": {},
   "source": [
    "### 区間推定の結果の解釈"
   ]
  },
  {
   "cell_type": "markdown",
   "metadata": {},
   "source": [
    "信頼係数95%の「95%」は以下のように得られる。<br>"
   ]
  },
  {
   "cell_type": "markdown",
   "metadata": {},
   "source": [
    "1. 真の母集団分布から標本を抽出s<br>\n",
    "2. 今回と同じやり方で95%信頼区間を計算<br>\n",
    "3. この試行をたくさん繰り返す<br>\n",
    "4. すべての試行のうち、「真の母数」が信頼区間に含まれている割合が95%<br>"
   ]
  },
  {
   "cell_type": "code",
   "execution_count": 28,
   "metadata": {},
   "outputs": [
    {
     "data": {
      "text/plain": [
       "array([False, False, False, ..., False, False, False])"
      ]
     },
     "execution_count": 28,
     "metadata": {},
     "output_type": "execute_result"
    }
   ],
   "source": [
    "be_included_array = np.zeros(20000, dtype='bool')\n",
    "be_included_array"
   ]
  },
  {
   "cell_type": "code",
   "execution_count": 30,
   "metadata": {},
   "outputs": [],
   "source": [
    "# 「95%信頼区間を求める」試行を20000回繰り返す\n",
    "# 信頼区間が母平均（４）を含んでいればTrue\n",
    "np.random.seed(1)\n",
    "norm_dist = stats.norm(loc=4, scale=0.8)\n",
    "for i in range(0, 20000):\n",
    "    sample = norm_dist.rvs(size=10) # サンプルから10個取り出す\n",
    "    df = len(sample) - 1 # 自由度\n",
    "    mu = sp.mean(sample) # 平均\n",
    "    std = sp.std(sample, ddof = 1) # \n",
    "    se = std / sp.sqrt(len(sample))\n",
    "    interval = stats.t.interval(0.95, df, mu, se)\n",
    "    if(interval[0] <= 4 and interval[1] >=4):\n",
    "        be_included_array[i] = True"
   ]
  },
  {
   "cell_type": "code",
   "execution_count": 31,
   "metadata": {},
   "outputs": [
    {
     "data": {
      "text/plain": [
       "0.948"
      ]
     },
     "execution_count": 31,
     "metadata": {},
     "output_type": "execute_result"
    }
   ],
   "source": [
    "sum(be_included_array) / len(be_included_array)"
   ]
  },
  {
   "cell_type": "code",
   "execution_count": null,
   "metadata": {},
   "outputs": [],
   "source": []
  }
 ],
 "metadata": {
  "kernelspec": {
   "display_name": "Python 3",
   "language": "python",
   "name": "python3"
  },
  "language_info": {
   "codemirror_mode": {
    "name": "ipython",
    "version": 3
   },
   "file_extension": ".py",
   "mimetype": "text/x-python",
   "name": "python",
   "nbconvert_exporter": "python",
   "pygments_lexer": "ipython3",
   "version": "3.6.1"
  }
 },
 "nbformat": 4,
 "nbformat_minor": 2
}
